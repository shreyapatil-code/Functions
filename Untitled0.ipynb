{
  "nbformat": 4,
  "nbformat_minor": 0,
  "metadata": {
    "colab": {
      "provenance": []
    },
    "kernelspec": {
      "name": "python3",
      "display_name": "Python 3"
    },
    "language_info": {
      "name": "python"
    }
  },
  "cells": [
    {
      "cell_type": "code",
      "execution_count": 1,
      "metadata": {
        "colab": {
          "base_uri": "https://localhost:8080/"
        },
        "cellView": "form",
        "id": "amLpjxptkJFz",
        "outputId": "26cf76d5-f965-4597-e0ae-f662c407fa2d"
      },
      "outputs": [
        {
          "output_type": "stream",
          "name": "stdout",
          "text": [
            "Mounted at /content/drive\n"
          ]
        }
      ],
      "source": [
        "# @title\n",
        "from google.colab import drive\n",
        "drive.mount('/content/drive')\n"
      ]
    },
    {
      "cell_type": "code",
      "source": [
        "# @title\n",
        "%cd /content/drive/MyDrive/Functions\n"
      ],
      "metadata": {
        "colab": {
          "base_uri": "https://localhost:8080/"
        },
        "cellView": "form",
        "id": "psYh19n5kjGr",
        "outputId": "53938ee6-5b81-4446-cfd5-747fa39ebf57"
      },
      "execution_count": 2,
      "outputs": [
        {
          "output_type": "stream",
          "name": "stdout",
          "text": [
            "/content/drive/MyDrive/Functions\n"
          ]
        }
      ]
    },
    {
      "cell_type": "markdown",
      "source": [
        "#Functions\n",
        "1) what is the difference between stack and queue in C?\n",
        "   - Stack: Follows LIFO (Last In, First Out). You insert with push()   and remove with pop(). Only the top element is accessible.\n",
        "     \n",
        "     Queue: Follows FIFO (First In, First Out). You insert with enqueue() and remove with dequeue(). Only the front element is accessible.\n",
        "     "
      ],
      "metadata": {
        "id": "UnEBaKm-l8Pf"
      }
    },
    {
      "cell_type": "markdown",
      "source": [],
      "metadata": {
        "id": "_I4a11nJlOoZ"
      }
    }
  ]
}